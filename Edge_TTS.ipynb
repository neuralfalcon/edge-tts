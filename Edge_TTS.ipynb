{
  "nbformat": 4,
  "nbformat_minor": 0,
  "metadata": {
    "colab": {
      "provenance": []
    },
    "kernelspec": {
      "name": "python3",
      "display_name": "Python 3"
    },
    "language_info": {
      "name": "python"
    }
  },
  "cells": [
    {
      "cell_type": "code",
      "execution_count": null,
      "metadata": {
        "cellView": "form",
        "id": "wB8_prtcE-AM"
      },
      "outputs": [],
      "source": [
        "#@title install edge tts\n",
        "# https://github.com/rany2/edge-tts/tree/master\n",
        "!pip install pydub\n",
        "!pip install googletrans==3.1.0a0\n",
        "!pip install edge-tts\n",
        "from IPython.display import clear_output\n",
        "clear_output()\n",
        "import time\n",
        "time.sleep(5)\n",
        "\n",
        "import os\n",
        "os.kill(os.getpid(), 9)"
      ]
    },
    {
      "cell_type": "code",
      "source": [
        "# !edge-tts --list-voices"
      ],
      "metadata": {
        "id": "bDMnqBLXFciB"
      },
      "execution_count": 1,
      "outputs": []
    },
    {
      "cell_type": "code",
      "source": [
        "#@title Utils\n",
        "def calculate_rate_string(input_value):\n",
        "    rate = (input_value - 1) * 100\n",
        "    sign = '+' if input_value >= 1 else '-'\n",
        "    return f\"{sign}{abs(int(rate))}\"\n",
        "\n",
        "from googletrans import Translator\n",
        "\n",
        "def translate_text(text, Language):\n",
        "    if Language == \"English\" :\n",
        "      target_language='en'\n",
        "    if Language == \"Hindi\":\n",
        "      target_language='hi'\n",
        "    if Language == \"Bengali\":\n",
        "      target_language='bn'\n",
        "    translator = Translator()\n",
        "    translation = translator.translate(text, dest=target_language)\n",
        "    t_text=translation.text\n",
        "    if Language == \"English\" :\n",
        "      return t_text\n",
        "    if Language == \"Hindi\" or Language == \"Bengali\":\n",
        "      return t_text.replace(\".\",\"।\")\n",
        "\n",
        "def make_chunks(input_text, language):\n",
        "    if language == \"English\":\n",
        "        temp_list = input_text.strip().split(\".\")\n",
        "        filtered_list = [element.strip() + '.' for element in temp_list[:-1] if element.strip() and element.strip() != \"'\" and element.strip() != '\"']\n",
        "        if temp_list[-1].strip():\n",
        "            filtered_list.append(temp_list[-1].strip())\n",
        "        return filtered_list\n",
        "\n",
        "    if language == \"Hindi\" or language == \"Bengali\":\n",
        "        temp_list = input_text.strip().split(\"।\")\n",
        "        filtered_list = [element.strip() + '।' for element in temp_list[:-1] if element.strip() and element.strip() != \"'\" and element.strip() != '\"']\n",
        "        if temp_list[-1].strip():\n",
        "            filtered_list.append(temp_list[-1].strip())\n",
        "        return filtered_list\n",
        "\n",
        "\n",
        "import re\n",
        "import uuid\n",
        "def tts_file_name(text):\n",
        "    if text.endswith(\".\"):\n",
        "        text = text[:-1]\n",
        "    text = text.lower()\n",
        "    text = text.strip()\n",
        "    text = text.replace(\" \",\"_\")\n",
        "    truncated_text = text[:25] if len(text) > 25 else text if len(text) > 0 else \"empty\"\n",
        "    random_string = uuid.uuid4().hex[:8].upper()\n",
        "    file_name = f\"/content/edge_tts_voice/{truncated_text}_{random_string}.mp3\"\n",
        "    return file_name\n",
        "\n",
        "\n",
        "from pydub import AudioSegment\n",
        "import shutil\n",
        "import os\n",
        "def merge_audio_files(audio_paths, output_path):\n",
        "    # Initialize an empty AudioSegment\n",
        "    merged_audio = AudioSegment.silent(duration=0)\n",
        "\n",
        "    # Iterate through each audio file path\n",
        "    for audio_path in audio_paths:\n",
        "        # Load the audio file using Pydub\n",
        "        audio = AudioSegment.from_file(audio_path)\n",
        "\n",
        "        # Append the current audio file to the merged_audio\n",
        "        merged_audio += audio\n",
        "\n",
        "    # Export the merged audio to the specified output path\n",
        "    merged_audio.export(output_path, format=\"mp3\")\n",
        "\n",
        "def edge_free_tts(chunks_list,speed,voice_name,save_path):\n",
        "  print(chunks_list)\n",
        "  if len(chunks_list)>1:\n",
        "    chunk_audio_list=[]\n",
        "    if os.path.exists(\"/content/edge_tts_voice\"):\n",
        "      shutil.rmtree(\"/content/edge_tts_voice\")\n",
        "    os.mkdir(\"/content/edge_tts_voice\")\n",
        "    k=1\n",
        "    for i in chunks_list:\n",
        "      print(i)\n",
        "      edge_command=f'edge-tts  --rate={calculate_rate_string(speed)}% --voice {voice_name} --text \"{i}\" --write-media /content/edge_tts_voice/{k}.mp3'\n",
        "      print(edge_command)\n",
        "      var1=os.system(edge_command)\n",
        "      if var1==0:\n",
        "        pass\n",
        "      else:\n",
        "        print(f\"Failed: {i}\")\n",
        "      chunk_audio_list.append(f\"/content/edge_tts_voice/{k}.mp3\")\n",
        "      k+=1\n",
        "    print(chunk_audio_list)\n",
        "    merge_audio_files(chunk_audio_list, save_path)\n",
        "  else:\n",
        "    edge_command=f'edge-tts  --rate={calculate_rate_string(speed)}% --voice {voice_name} --text \"{chunks_list[0]}\" --write-media {save_path}'\n",
        "    print(edge_command)\n",
        "    var2=os.system(edge_command)\n",
        "    if var2==0:\n",
        "      pass\n",
        "    else:\n",
        "      print(f\"Failed: {chunks_list[0]}\")\n",
        "  return save_path\n"
      ],
      "metadata": {
        "cellView": "form",
        "id": "_9eGLXKKFQOo"
      },
      "execution_count": 2,
      "outputs": []
    },
    {
      "cell_type": "code",
      "source": [
        "text = 'Hi how are you ?'  # @param {type: \"string\"}\n",
        "Language = \"English\" # @param ['English', 'Hindi', 'Bengali']\n",
        "\n",
        "Gender = \"Female\"# @param ['Male', 'Female']\n",
        "speed = 1  # @param {type: \"number\"}\n",
        "\n",
        "translate_text_flag  = True # @param {type:\"boolean\"}\n",
        "long_sentence = False # @param {type:\"boolean\"}\n",
        "save_path = '/content/edge.wav'  # @param {type: \"string\"}\n",
        "if len(save_path)==0:\n",
        "  save_path=tts_file_name(text)\n",
        "if Language == \"English\" :\n",
        "  if Gender==\"Male\":\n",
        "    voice_name=\"en-US-ChristopherNeural\"\n",
        "  if Gender==\"Female\":\n",
        "    voice_name=\"en-US-AriaNeural\"\n",
        "if Language == \"Hindi\":\n",
        "  if Gender==\"Male\":\n",
        "    voice_name=\"hi-IN-MadhurNeural\"\n",
        "  if Gender==\"Female\":\n",
        "    voice_name=\"hi-IN-SwaraNeural\"\n",
        "if Language == \"Bengali\":\n",
        "  if Gender==\"Male\":\n",
        "    voice_name=\"bn-IN-BashkarNeural\"\n",
        "  if Gender==\"Female\":\n",
        "    voice_name=\"bn-BD-NabanitaNeural\"\n",
        "if translate_text_flag:\n",
        "  input_text=translate_text(text, Language)\n",
        "  print(\"Translateting\")\n",
        "else:\n",
        "  input_text=text\n",
        "if long_sentence==True and translate_text_flag==True:\n",
        "  chunks_list=make_chunks(input_text,Language)\n",
        "elif long_sentence==True and translate_text_flag==False:\n",
        "  chunks_list=make_chunks(input_text,\"English\")\n",
        "else:\n",
        "  chunks_list=[input_text]\n",
        "# print(chunks_list)\n",
        "edge_save_path=edge_free_tts(chunks_list,speed,voice_name,save_path)\n",
        "from IPython.display import clear_output\n",
        "clear_output()\n",
        "from IPython.display import Audio\n",
        "Audio(edge_save_path, autoplay=True)"
      ],
      "metadata": {
        "cellView": "form",
        "colab": {
          "base_uri": "https://localhost:8080/",
          "height": 76
        },
        "id": "r8avog1PFQ2w",
        "outputId": "48004e7c-53cc-4ed6-8727-312ec24f1419"
      },
      "execution_count": 3,
      "outputs": [
        {
          "output_type": "execute_result",
          "data": {
            "text/plain": [
              "<IPython.lib.display.Audio object>"
            ],
            "text/html": [
              "\n",
              "                <audio  controls=\"controls\" autoplay=\"autoplay\">\n",
              "                    <source src=\"data:audio/x-wav;base64,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\" type=\"audio/x-wav\" />\n",
              "                    Your browser does not support the audio element.\n",
              "                </audio>\n",
              "              "
            ]
          },
          "metadata": {},
          "execution_count": 3
        }
      ]
    },
    {
      "cell_type": "code",
      "source": [
        "#@title Download edge voice\n",
        "\n",
        "from google.colab import files\n",
        "files.download(edge_save_path)"
      ],
      "metadata": {
        "cellView": "form",
        "id": "2SzYdr-1Fhto"
      },
      "execution_count": null,
      "outputs": []
    }
  ]
}